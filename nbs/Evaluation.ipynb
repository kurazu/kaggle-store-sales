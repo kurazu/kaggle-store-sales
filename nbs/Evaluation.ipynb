{
 "cells": [
  {
   "cell_type": "markdown",
   "id": "1c2ea864",
   "metadata": {},
   "source": [
    "# Setup"
   ]
  },
  {
   "cell_type": "code",
   "execution_count": 1,
   "id": "aabf7286",
   "metadata": {},
   "outputs": [],
   "source": [
    "import os\n",
    "\n",
    "from absl import logging\n",
    "import pandas as pd\n",
    "from sklearn.metrics import ConfusionMatrixDisplay, f1_score, accuracy_score\n",
    "import matplotlib.pyplot as plt\n",
    "from matplotlib.colors import Normalize\n",
    "\n",
    "from pipeline.constants import PIPELINE_NAME\n",
    "\n",
    "from visualization.threshold_optimization import load_best_threshold\n",
    "from visualization.newest_subdir import NewestLocalPathGetter"
   ]
  },
  {
   "cell_type": "code",
   "execution_count": 2,
   "id": "472ebaa9",
   "metadata": {},
   "outputs": [],
   "source": [
    "logging.set_verbosity(logging.DEBUG)"
   ]
  },
  {
   "cell_type": "code",
   "execution_count": 3,
   "id": "24b14ccc",
   "metadata": {},
   "outputs": [],
   "source": [
    "path_getter = NewestLocalPathGetter(artifact_dir=os.environ['PIPELINE_OUTPUT'], pipeline_name=PIPELINE_NAME)"
   ]
  },
  {
   "cell_type": "code",
   "execution_count": 4,
   "id": "1063e823",
   "metadata": {},
   "outputs": [],
   "source": [
    "FILE_PATH = '/tfx_pipeline_output/onboarding/evaluation.csv'"
   ]
  },
  {
   "cell_type": "code",
   "execution_count": 5,
   "id": "e4d9eecc",
   "metadata": {},
   "outputs": [
    {
     "name": "stderr",
     "output_type": "stream",
     "text": [
      "DEBUG:absl:From 1 subdirs selected '/tfx_pipeline_output/onboarding/ThresholdOptimizerComponent/best_threshold/33' as newest\n"
     ]
    },
    {
     "data": {
      "text/plain": [
       "0.07"
      ]
     },
     "execution_count": 5,
     "metadata": {},
     "output_type": "execute_result"
    }
   ],
   "source": [
    "best_threshold = load_best_threshold(path_getter.get_threshold_path('ThresholdOptimizerComponent'))\n",
    "best_threshold"
   ]
  },
  {
   "cell_type": "markdown",
   "id": "e6a9393d",
   "metadata": {},
   "source": [
    "# Read evaluation CSV"
   ]
  },
  {
   "cell_type": "code",
   "execution_count": 7,
   "id": "833f444d",
   "metadata": {},
   "outputs": [
    {
     "data": {
      "text/html": [
       "<div>\n",
       "<style scoped>\n",
       "    .dataframe tbody tr th:only-of-type {\n",
       "        vertical-align: middle;\n",
       "    }\n",
       "\n",
       "    .dataframe tbody tr th {\n",
       "        vertical-align: top;\n",
       "    }\n",
       "\n",
       "    .dataframe thead th {\n",
       "        text-align: right;\n",
       "    }\n",
       "</style>\n",
       "<table border=\"1\" class=\"dataframe\">\n",
       "  <thead>\n",
       "    <tr style=\"text-align: right;\">\n",
       "      <th></th>\n",
       "      <th>stage_one_completion</th>\n",
       "      <th>sample_extraction</th>\n",
       "      <th>predicted_probability</th>\n",
       "      <th>stage_two_completion</th>\n",
       "    </tr>\n",
       "    <tr>\n",
       "      <th>user_id</th>\n",
       "      <th></th>\n",
       "      <th></th>\n",
       "      <th></th>\n",
       "      <th></th>\n",
       "    </tr>\n",
       "  </thead>\n",
       "  <tbody>\n",
       "    <tr>\n",
       "      <th>2093128</th>\n",
       "      <td>2020-08-24 10:54:56</td>\n",
       "      <td>2022-05-19 18:57:04</td>\n",
       "      <td>0.527673</td>\n",
       "      <td>NaT</td>\n",
       "    </tr>\n",
       "    <tr>\n",
       "      <th>4075729</th>\n",
       "      <td>2022-04-17 06:49:36</td>\n",
       "      <td>2022-05-19 18:57:04</td>\n",
       "      <td>0.527673</td>\n",
       "      <td>NaT</td>\n",
       "    </tr>\n",
       "    <tr>\n",
       "      <th>2257616</th>\n",
       "      <td>2020-08-28 05:52:00</td>\n",
       "      <td>2022-05-19 18:57:04</td>\n",
       "      <td>0.527673</td>\n",
       "      <td>NaT</td>\n",
       "    </tr>\n",
       "    <tr>\n",
       "      <th>4034620</th>\n",
       "      <td>2021-06-03 07:02:24</td>\n",
       "      <td>2022-05-19 18:57:04</td>\n",
       "      <td>0.527673</td>\n",
       "      <td>NaT</td>\n",
       "    </tr>\n",
       "    <tr>\n",
       "      <th>3079181</th>\n",
       "      <td>2020-08-13 06:43:12</td>\n",
       "      <td>2022-05-19 18:57:04</td>\n",
       "      <td>0.527673</td>\n",
       "      <td>NaT</td>\n",
       "    </tr>\n",
       "    <tr>\n",
       "      <th>...</th>\n",
       "      <td>...</td>\n",
       "      <td>...</td>\n",
       "      <td>...</td>\n",
       "      <td>...</td>\n",
       "    </tr>\n",
       "    <tr>\n",
       "      <th>4075988</th>\n",
       "      <td>2022-04-20 11:03:28</td>\n",
       "      <td>2022-05-19 18:57:04</td>\n",
       "      <td>0.576838</td>\n",
       "      <td>2022-05-26 13:07:13</td>\n",
       "    </tr>\n",
       "    <tr>\n",
       "      <th>4076107</th>\n",
       "      <td>2022-04-21 11:46:08</td>\n",
       "      <td>2022-05-19 18:57:04</td>\n",
       "      <td>0.527673</td>\n",
       "      <td>NaT</td>\n",
       "    </tr>\n",
       "    <tr>\n",
       "      <th>4076942</th>\n",
       "      <td>2022-04-30 08:44:48</td>\n",
       "      <td>2022-05-19 18:57:04</td>\n",
       "      <td>0.527673</td>\n",
       "      <td>NaT</td>\n",
       "    </tr>\n",
       "    <tr>\n",
       "      <th>4077745</th>\n",
       "      <td>2022-05-10 07:13:04</td>\n",
       "      <td>2022-05-19 18:57:04</td>\n",
       "      <td>0.007986</td>\n",
       "      <td>NaT</td>\n",
       "    </tr>\n",
       "    <tr>\n",
       "      <th>4078430</th>\n",
       "      <td>2022-05-17 06:51:44</td>\n",
       "      <td>2022-05-19 18:57:04</td>\n",
       "      <td>0.056378</td>\n",
       "      <td>NaT</td>\n",
       "    </tr>\n",
       "  </tbody>\n",
       "</table>\n",
       "<p>63798 rows × 4 columns</p>\n",
       "</div>"
      ],
      "text/plain": [
       "        stage_one_completion   sample_extraction  predicted_probability  \\\n",
       "user_id                                                                   \n",
       "2093128  2020-08-24 10:54:56 2022-05-19 18:57:04               0.527673   \n",
       "4075729  2022-04-17 06:49:36 2022-05-19 18:57:04               0.527673   \n",
       "2257616  2020-08-28 05:52:00 2022-05-19 18:57:04               0.527673   \n",
       "4034620  2021-06-03 07:02:24 2022-05-19 18:57:04               0.527673   \n",
       "3079181  2020-08-13 06:43:12 2022-05-19 18:57:04               0.527673   \n",
       "...                      ...                 ...                    ...   \n",
       "4075988  2022-04-20 11:03:28 2022-05-19 18:57:04               0.576838   \n",
       "4076107  2022-04-21 11:46:08 2022-05-19 18:57:04               0.527673   \n",
       "4076942  2022-04-30 08:44:48 2022-05-19 18:57:04               0.527673   \n",
       "4077745  2022-05-10 07:13:04 2022-05-19 18:57:04               0.007986   \n",
       "4078430  2022-05-17 06:51:44 2022-05-19 18:57:04               0.056378   \n",
       "\n",
       "        stage_two_completion  \n",
       "user_id                       \n",
       "2093128                  NaT  \n",
       "4075729                  NaT  \n",
       "2257616                  NaT  \n",
       "4034620                  NaT  \n",
       "3079181                  NaT  \n",
       "...                      ...  \n",
       "4075988  2022-05-26 13:07:13  \n",
       "4076107                  NaT  \n",
       "4076942                  NaT  \n",
       "4077745                  NaT  \n",
       "4078430                  NaT  \n",
       "\n",
       "[63798 rows x 4 columns]"
      ]
     },
     "execution_count": 7,
     "metadata": {},
     "output_type": "execute_result"
    }
   ],
   "source": [
    "df = pd.read_csv(\n",
    "    FILE_PATH, index_col='user_id',\n",
    "    parse_dates=['sample_extraction', 'stage_one_completion', 'stage_two_completion']\n",
    ")\n",
    "df"
   ]
  },
  {
   "cell_type": "markdown",
   "id": "8bf0d9ce",
   "metadata": {},
   "source": [
    "## Discretize prediction"
   ]
  },
  {
   "cell_type": "code",
   "execution_count": 8,
   "id": "d4d64fa0",
   "metadata": {},
   "outputs": [
    {
     "data": {
      "text/html": [
       "<div>\n",
       "<style scoped>\n",
       "    .dataframe tbody tr th:only-of-type {\n",
       "        vertical-align: middle;\n",
       "    }\n",
       "\n",
       "    .dataframe tbody tr th {\n",
       "        vertical-align: top;\n",
       "    }\n",
       "\n",
       "    .dataframe thead th {\n",
       "        text-align: right;\n",
       "    }\n",
       "</style>\n",
       "<table border=\"1\" class=\"dataframe\">\n",
       "  <thead>\n",
       "    <tr style=\"text-align: right;\">\n",
       "      <th></th>\n",
       "      <th>stage_one_completion</th>\n",
       "      <th>sample_extraction</th>\n",
       "      <th>predicted_probability</th>\n",
       "      <th>stage_two_completion</th>\n",
       "      <th>prediction</th>\n",
       "    </tr>\n",
       "    <tr>\n",
       "      <th>user_id</th>\n",
       "      <th></th>\n",
       "      <th></th>\n",
       "      <th></th>\n",
       "      <th></th>\n",
       "      <th></th>\n",
       "    </tr>\n",
       "  </thead>\n",
       "  <tbody>\n",
       "    <tr>\n",
       "      <th>2093128</th>\n",
       "      <td>2020-08-24 10:54:56</td>\n",
       "      <td>2022-05-19 18:57:04</td>\n",
       "      <td>0.527673</td>\n",
       "      <td>NaT</td>\n",
       "      <td>True</td>\n",
       "    </tr>\n",
       "    <tr>\n",
       "      <th>4075729</th>\n",
       "      <td>2022-04-17 06:49:36</td>\n",
       "      <td>2022-05-19 18:57:04</td>\n",
       "      <td>0.527673</td>\n",
       "      <td>NaT</td>\n",
       "      <td>True</td>\n",
       "    </tr>\n",
       "    <tr>\n",
       "      <th>2257616</th>\n",
       "      <td>2020-08-28 05:52:00</td>\n",
       "      <td>2022-05-19 18:57:04</td>\n",
       "      <td>0.527673</td>\n",
       "      <td>NaT</td>\n",
       "      <td>True</td>\n",
       "    </tr>\n",
       "    <tr>\n",
       "      <th>4034620</th>\n",
       "      <td>2021-06-03 07:02:24</td>\n",
       "      <td>2022-05-19 18:57:04</td>\n",
       "      <td>0.527673</td>\n",
       "      <td>NaT</td>\n",
       "      <td>True</td>\n",
       "    </tr>\n",
       "    <tr>\n",
       "      <th>3079181</th>\n",
       "      <td>2020-08-13 06:43:12</td>\n",
       "      <td>2022-05-19 18:57:04</td>\n",
       "      <td>0.527673</td>\n",
       "      <td>NaT</td>\n",
       "      <td>True</td>\n",
       "    </tr>\n",
       "    <tr>\n",
       "      <th>...</th>\n",
       "      <td>...</td>\n",
       "      <td>...</td>\n",
       "      <td>...</td>\n",
       "      <td>...</td>\n",
       "      <td>...</td>\n",
       "    </tr>\n",
       "    <tr>\n",
       "      <th>4075988</th>\n",
       "      <td>2022-04-20 11:03:28</td>\n",
       "      <td>2022-05-19 18:57:04</td>\n",
       "      <td>0.576838</td>\n",
       "      <td>2022-05-26 13:07:13</td>\n",
       "      <td>True</td>\n",
       "    </tr>\n",
       "    <tr>\n",
       "      <th>4076107</th>\n",
       "      <td>2022-04-21 11:46:08</td>\n",
       "      <td>2022-05-19 18:57:04</td>\n",
       "      <td>0.527673</td>\n",
       "      <td>NaT</td>\n",
       "      <td>True</td>\n",
       "    </tr>\n",
       "    <tr>\n",
       "      <th>4076942</th>\n",
       "      <td>2022-04-30 08:44:48</td>\n",
       "      <td>2022-05-19 18:57:04</td>\n",
       "      <td>0.527673</td>\n",
       "      <td>NaT</td>\n",
       "      <td>True</td>\n",
       "    </tr>\n",
       "    <tr>\n",
       "      <th>4077745</th>\n",
       "      <td>2022-05-10 07:13:04</td>\n",
       "      <td>2022-05-19 18:57:04</td>\n",
       "      <td>0.007986</td>\n",
       "      <td>NaT</td>\n",
       "      <td>False</td>\n",
       "    </tr>\n",
       "    <tr>\n",
       "      <th>4078430</th>\n",
       "      <td>2022-05-17 06:51:44</td>\n",
       "      <td>2022-05-19 18:57:04</td>\n",
       "      <td>0.056378</td>\n",
       "      <td>NaT</td>\n",
       "      <td>False</td>\n",
       "    </tr>\n",
       "  </tbody>\n",
       "</table>\n",
       "<p>63798 rows × 5 columns</p>\n",
       "</div>"
      ],
      "text/plain": [
       "        stage_one_completion   sample_extraction  predicted_probability  \\\n",
       "user_id                                                                   \n",
       "2093128  2020-08-24 10:54:56 2022-05-19 18:57:04               0.527673   \n",
       "4075729  2022-04-17 06:49:36 2022-05-19 18:57:04               0.527673   \n",
       "2257616  2020-08-28 05:52:00 2022-05-19 18:57:04               0.527673   \n",
       "4034620  2021-06-03 07:02:24 2022-05-19 18:57:04               0.527673   \n",
       "3079181  2020-08-13 06:43:12 2022-05-19 18:57:04               0.527673   \n",
       "...                      ...                 ...                    ...   \n",
       "4075988  2022-04-20 11:03:28 2022-05-19 18:57:04               0.576838   \n",
       "4076107  2022-04-21 11:46:08 2022-05-19 18:57:04               0.527673   \n",
       "4076942  2022-04-30 08:44:48 2022-05-19 18:57:04               0.527673   \n",
       "4077745  2022-05-10 07:13:04 2022-05-19 18:57:04               0.007986   \n",
       "4078430  2022-05-17 06:51:44 2022-05-19 18:57:04               0.056378   \n",
       "\n",
       "        stage_two_completion  prediction  \n",
       "user_id                                   \n",
       "2093128                  NaT        True  \n",
       "4075729                  NaT        True  \n",
       "2257616                  NaT        True  \n",
       "4034620                  NaT        True  \n",
       "3079181                  NaT        True  \n",
       "...                      ...         ...  \n",
       "4075988  2022-05-26 13:07:13        True  \n",
       "4076107                  NaT        True  \n",
       "4076942                  NaT        True  \n",
       "4077745                  NaT       False  \n",
       "4078430                  NaT       False  \n",
       "\n",
       "[63798 rows x 5 columns]"
      ]
     },
     "execution_count": 8,
     "metadata": {},
     "output_type": "execute_result"
    }
   ],
   "source": [
    "df['prediction'] = df.predicted_probability >= best_threshold\n",
    "df"
   ]
  },
  {
   "cell_type": "markdown",
   "id": "33d0739f",
   "metadata": {},
   "source": [
    "## Calculate ground truth"
   ]
  },
  {
   "cell_type": "code",
   "execution_count": 9,
   "id": "c0f79bda",
   "metadata": {},
   "outputs": [
    {
     "data": {
      "text/html": [
       "<div>\n",
       "<style scoped>\n",
       "    .dataframe tbody tr th:only-of-type {\n",
       "        vertical-align: middle;\n",
       "    }\n",
       "\n",
       "    .dataframe tbody tr th {\n",
       "        vertical-align: top;\n",
       "    }\n",
       "\n",
       "    .dataframe thead th {\n",
       "        text-align: right;\n",
       "    }\n",
       "</style>\n",
       "<table border=\"1\" class=\"dataframe\">\n",
       "  <thead>\n",
       "    <tr style=\"text-align: right;\">\n",
       "      <th></th>\n",
       "      <th>stage_one_completion</th>\n",
       "      <th>sample_extraction</th>\n",
       "      <th>predicted_probability</th>\n",
       "      <th>stage_two_completion</th>\n",
       "      <th>prediction</th>\n",
       "      <th>ground_truth</th>\n",
       "    </tr>\n",
       "    <tr>\n",
       "      <th>user_id</th>\n",
       "      <th></th>\n",
       "      <th></th>\n",
       "      <th></th>\n",
       "      <th></th>\n",
       "      <th></th>\n",
       "      <th></th>\n",
       "    </tr>\n",
       "  </thead>\n",
       "  <tbody>\n",
       "    <tr>\n",
       "      <th>2093128</th>\n",
       "      <td>2020-08-24 10:54:56</td>\n",
       "      <td>2022-05-19 18:57:04</td>\n",
       "      <td>0.527673</td>\n",
       "      <td>NaT</td>\n",
       "      <td>True</td>\n",
       "      <td>False</td>\n",
       "    </tr>\n",
       "    <tr>\n",
       "      <th>4075729</th>\n",
       "      <td>2022-04-17 06:49:36</td>\n",
       "      <td>2022-05-19 18:57:04</td>\n",
       "      <td>0.527673</td>\n",
       "      <td>NaT</td>\n",
       "      <td>True</td>\n",
       "      <td>False</td>\n",
       "    </tr>\n",
       "    <tr>\n",
       "      <th>2257616</th>\n",
       "      <td>2020-08-28 05:52:00</td>\n",
       "      <td>2022-05-19 18:57:04</td>\n",
       "      <td>0.527673</td>\n",
       "      <td>NaT</td>\n",
       "      <td>True</td>\n",
       "      <td>False</td>\n",
       "    </tr>\n",
       "    <tr>\n",
       "      <th>4034620</th>\n",
       "      <td>2021-06-03 07:02:24</td>\n",
       "      <td>2022-05-19 18:57:04</td>\n",
       "      <td>0.527673</td>\n",
       "      <td>NaT</td>\n",
       "      <td>True</td>\n",
       "      <td>False</td>\n",
       "    </tr>\n",
       "    <tr>\n",
       "      <th>3079181</th>\n",
       "      <td>2020-08-13 06:43:12</td>\n",
       "      <td>2022-05-19 18:57:04</td>\n",
       "      <td>0.527673</td>\n",
       "      <td>NaT</td>\n",
       "      <td>True</td>\n",
       "      <td>False</td>\n",
       "    </tr>\n",
       "    <tr>\n",
       "      <th>...</th>\n",
       "      <td>...</td>\n",
       "      <td>...</td>\n",
       "      <td>...</td>\n",
       "      <td>...</td>\n",
       "      <td>...</td>\n",
       "      <td>...</td>\n",
       "    </tr>\n",
       "    <tr>\n",
       "      <th>4075988</th>\n",
       "      <td>2022-04-20 11:03:28</td>\n",
       "      <td>2022-05-19 18:57:04</td>\n",
       "      <td>0.576838</td>\n",
       "      <td>2022-05-26 13:07:13</td>\n",
       "      <td>True</td>\n",
       "      <td>False</td>\n",
       "    </tr>\n",
       "    <tr>\n",
       "      <th>4076107</th>\n",
       "      <td>2022-04-21 11:46:08</td>\n",
       "      <td>2022-05-19 18:57:04</td>\n",
       "      <td>0.527673</td>\n",
       "      <td>NaT</td>\n",
       "      <td>True</td>\n",
       "      <td>False</td>\n",
       "    </tr>\n",
       "    <tr>\n",
       "      <th>4076942</th>\n",
       "      <td>2022-04-30 08:44:48</td>\n",
       "      <td>2022-05-19 18:57:04</td>\n",
       "      <td>0.527673</td>\n",
       "      <td>NaT</td>\n",
       "      <td>True</td>\n",
       "      <td>False</td>\n",
       "    </tr>\n",
       "    <tr>\n",
       "      <th>4077745</th>\n",
       "      <td>2022-05-10 07:13:04</td>\n",
       "      <td>2022-05-19 18:57:04</td>\n",
       "      <td>0.007986</td>\n",
       "      <td>NaT</td>\n",
       "      <td>False</td>\n",
       "      <td>False</td>\n",
       "    </tr>\n",
       "    <tr>\n",
       "      <th>4078430</th>\n",
       "      <td>2022-05-17 06:51:44</td>\n",
       "      <td>2022-05-19 18:57:04</td>\n",
       "      <td>0.056378</td>\n",
       "      <td>NaT</td>\n",
       "      <td>False</td>\n",
       "      <td>False</td>\n",
       "    </tr>\n",
       "  </tbody>\n",
       "</table>\n",
       "<p>63798 rows × 6 columns</p>\n",
       "</div>"
      ],
      "text/plain": [
       "        stage_one_completion   sample_extraction  predicted_probability  \\\n",
       "user_id                                                                   \n",
       "2093128  2020-08-24 10:54:56 2022-05-19 18:57:04               0.527673   \n",
       "4075729  2022-04-17 06:49:36 2022-05-19 18:57:04               0.527673   \n",
       "2257616  2020-08-28 05:52:00 2022-05-19 18:57:04               0.527673   \n",
       "4034620  2021-06-03 07:02:24 2022-05-19 18:57:04               0.527673   \n",
       "3079181  2020-08-13 06:43:12 2022-05-19 18:57:04               0.527673   \n",
       "...                      ...                 ...                    ...   \n",
       "4075988  2022-04-20 11:03:28 2022-05-19 18:57:04               0.576838   \n",
       "4076107  2022-04-21 11:46:08 2022-05-19 18:57:04               0.527673   \n",
       "4076942  2022-04-30 08:44:48 2022-05-19 18:57:04               0.527673   \n",
       "4077745  2022-05-10 07:13:04 2022-05-19 18:57:04               0.007986   \n",
       "4078430  2022-05-17 06:51:44 2022-05-19 18:57:04               0.056378   \n",
       "\n",
       "        stage_two_completion  prediction  ground_truth  \n",
       "user_id                                                 \n",
       "2093128                  NaT        True         False  \n",
       "4075729                  NaT        True         False  \n",
       "2257616                  NaT        True         False  \n",
       "4034620                  NaT        True         False  \n",
       "3079181                  NaT        True         False  \n",
       "...                      ...         ...           ...  \n",
       "4075988  2022-05-26 13:07:13        True         False  \n",
       "4076107                  NaT        True         False  \n",
       "4076942                  NaT        True         False  \n",
       "4077745                  NaT       False         False  \n",
       "4078430                  NaT       False         False  \n",
       "\n",
       "[63798 rows x 6 columns]"
      ]
     },
     "execution_count": 9,
     "metadata": {},
     "output_type": "execute_result"
    }
   ],
   "source": [
    "df['ground_truth'] = df.stage_two_completion <= df.sample_extraction + pd.DateOffset(days=5)\n",
    "df"
   ]
  },
  {
   "cell_type": "markdown",
   "id": "583d298a",
   "metadata": {},
   "source": [
    "A quick zoom into the users that progressed"
   ]
  },
  {
   "cell_type": "code",
   "execution_count": 10,
   "id": "9e8cf1c1",
   "metadata": {},
   "outputs": [
    {
     "data": {
      "text/html": [
       "<div>\n",
       "<style scoped>\n",
       "    .dataframe tbody tr th:only-of-type {\n",
       "        vertical-align: middle;\n",
       "    }\n",
       "\n",
       "    .dataframe tbody tr th {\n",
       "        vertical-align: top;\n",
       "    }\n",
       "\n",
       "    .dataframe thead th {\n",
       "        text-align: right;\n",
       "    }\n",
       "</style>\n",
       "<table border=\"1\" class=\"dataframe\">\n",
       "  <thead>\n",
       "    <tr style=\"text-align: right;\">\n",
       "      <th></th>\n",
       "      <th>stage_one_completion</th>\n",
       "      <th>sample_extraction</th>\n",
       "      <th>predicted_probability</th>\n",
       "      <th>stage_two_completion</th>\n",
       "      <th>prediction</th>\n",
       "      <th>ground_truth</th>\n",
       "    </tr>\n",
       "    <tr>\n",
       "      <th>user_id</th>\n",
       "      <th></th>\n",
       "      <th></th>\n",
       "      <th></th>\n",
       "      <th></th>\n",
       "      <th></th>\n",
       "      <th></th>\n",
       "    </tr>\n",
       "  </thead>\n",
       "  <tbody>\n",
       "    <tr>\n",
       "      <th>4078189</th>\n",
       "      <td>2022-05-14 10:20:48</td>\n",
       "      <td>2022-05-19 18:57:04</td>\n",
       "      <td>0.027726</td>\n",
       "      <td>2022-05-20 06:16:44</td>\n",
       "      <td>False</td>\n",
       "      <td>True</td>\n",
       "    </tr>\n",
       "    <tr>\n",
       "      <th>4025810</th>\n",
       "      <td>2021-03-12 08:36:16</td>\n",
       "      <td>2022-05-19 18:57:04</td>\n",
       "      <td>0.527673</td>\n",
       "      <td>2022-05-26 08:03:36</td>\n",
       "      <td>True</td>\n",
       "      <td>False</td>\n",
       "    </tr>\n",
       "    <tr>\n",
       "      <th>4021576</th>\n",
       "      <td>2021-02-04 09:14:40</td>\n",
       "      <td>2022-05-19 18:57:04</td>\n",
       "      <td>0.527673</td>\n",
       "      <td>2022-05-26 11:10:42</td>\n",
       "      <td>True</td>\n",
       "      <td>False</td>\n",
       "    </tr>\n",
       "    <tr>\n",
       "      <th>4075251</th>\n",
       "      <td>2022-04-12 06:00:32</td>\n",
       "      <td>2022-05-19 18:57:04</td>\n",
       "      <td>0.527673</td>\n",
       "      <td>2022-05-23 09:46:22</td>\n",
       "      <td>True</td>\n",
       "      <td>True</td>\n",
       "    </tr>\n",
       "    <tr>\n",
       "      <th>4070147</th>\n",
       "      <td>2022-02-21 10:35:44</td>\n",
       "      <td>2022-05-19 18:57:04</td>\n",
       "      <td>0.527673</td>\n",
       "      <td>2022-05-24 10:23:21</td>\n",
       "      <td>True</td>\n",
       "      <td>True</td>\n",
       "    </tr>\n",
       "    <tr>\n",
       "      <th>...</th>\n",
       "      <td>...</td>\n",
       "      <td>...</td>\n",
       "      <td>...</td>\n",
       "      <td>...</td>\n",
       "      <td>...</td>\n",
       "      <td>...</td>\n",
       "    </tr>\n",
       "    <tr>\n",
       "      <th>4076859</th>\n",
       "      <td>2022-04-29 10:10:08</td>\n",
       "      <td>2022-05-19 18:57:04</td>\n",
       "      <td>0.527673</td>\n",
       "      <td>2022-05-24 10:30:47</td>\n",
       "      <td>True</td>\n",
       "      <td>True</td>\n",
       "    </tr>\n",
       "    <tr>\n",
       "      <th>4052902</th>\n",
       "      <td>2021-09-30 09:21:04</td>\n",
       "      <td>2022-05-19 18:57:04</td>\n",
       "      <td>0.527673</td>\n",
       "      <td>2022-05-21 06:02:15</td>\n",
       "      <td>True</td>\n",
       "      <td>True</td>\n",
       "    </tr>\n",
       "    <tr>\n",
       "      <th>4078638</th>\n",
       "      <td>2022-05-19 05:11:28</td>\n",
       "      <td>2022-05-19 18:57:04</td>\n",
       "      <td>0.056949</td>\n",
       "      <td>2022-05-25 09:11:16</td>\n",
       "      <td>False</td>\n",
       "      <td>False</td>\n",
       "    </tr>\n",
       "    <tr>\n",
       "      <th>4067196</th>\n",
       "      <td>2022-01-31 08:23:28</td>\n",
       "      <td>2022-05-19 18:57:04</td>\n",
       "      <td>0.527673</td>\n",
       "      <td>2022-05-25 05:50:21</td>\n",
       "      <td>True</td>\n",
       "      <td>False</td>\n",
       "    </tr>\n",
       "    <tr>\n",
       "      <th>4075988</th>\n",
       "      <td>2022-04-20 11:03:28</td>\n",
       "      <td>2022-05-19 18:57:04</td>\n",
       "      <td>0.576838</td>\n",
       "      <td>2022-05-26 13:07:13</td>\n",
       "      <td>True</td>\n",
       "      <td>False</td>\n",
       "    </tr>\n",
       "  </tbody>\n",
       "</table>\n",
       "<p>138 rows × 6 columns</p>\n",
       "</div>"
      ],
      "text/plain": [
       "        stage_one_completion   sample_extraction  predicted_probability  \\\n",
       "user_id                                                                   \n",
       "4078189  2022-05-14 10:20:48 2022-05-19 18:57:04               0.027726   \n",
       "4025810  2021-03-12 08:36:16 2022-05-19 18:57:04               0.527673   \n",
       "4021576  2021-02-04 09:14:40 2022-05-19 18:57:04               0.527673   \n",
       "4075251  2022-04-12 06:00:32 2022-05-19 18:57:04               0.527673   \n",
       "4070147  2022-02-21 10:35:44 2022-05-19 18:57:04               0.527673   \n",
       "...                      ...                 ...                    ...   \n",
       "4076859  2022-04-29 10:10:08 2022-05-19 18:57:04               0.527673   \n",
       "4052902  2021-09-30 09:21:04 2022-05-19 18:57:04               0.527673   \n",
       "4078638  2022-05-19 05:11:28 2022-05-19 18:57:04               0.056949   \n",
       "4067196  2022-01-31 08:23:28 2022-05-19 18:57:04               0.527673   \n",
       "4075988  2022-04-20 11:03:28 2022-05-19 18:57:04               0.576838   \n",
       "\n",
       "        stage_two_completion  prediction  ground_truth  \n",
       "user_id                                                 \n",
       "4078189  2022-05-20 06:16:44       False          True  \n",
       "4025810  2022-05-26 08:03:36        True         False  \n",
       "4021576  2022-05-26 11:10:42        True         False  \n",
       "4075251  2022-05-23 09:46:22        True          True  \n",
       "4070147  2022-05-24 10:23:21        True          True  \n",
       "...                      ...         ...           ...  \n",
       "4076859  2022-05-24 10:30:47        True          True  \n",
       "4052902  2022-05-21 06:02:15        True          True  \n",
       "4078638  2022-05-25 09:11:16       False         False  \n",
       "4067196  2022-05-25 05:50:21        True         False  \n",
       "4075988  2022-05-26 13:07:13        True         False  \n",
       "\n",
       "[138 rows x 6 columns]"
      ]
     },
     "execution_count": 10,
     "metadata": {},
     "output_type": "execute_result"
    }
   ],
   "source": [
    "df[~df.stage_two_completion.isna()]"
   ]
  },
  {
   "cell_type": "markdown",
   "id": "3ef7b259",
   "metadata": {},
   "source": [
    "# Create a subset of users that have recently joined the platform"
   ]
  },
  {
   "cell_type": "code",
   "execution_count": 11,
   "id": "768e06dc",
   "metadata": {},
   "outputs": [
    {
     "data": {
      "text/html": [
       "<div>\n",
       "<style scoped>\n",
       "    .dataframe tbody tr th:only-of-type {\n",
       "        vertical-align: middle;\n",
       "    }\n",
       "\n",
       "    .dataframe tbody tr th {\n",
       "        vertical-align: top;\n",
       "    }\n",
       "\n",
       "    .dataframe thead th {\n",
       "        text-align: right;\n",
       "    }\n",
       "</style>\n",
       "<table border=\"1\" class=\"dataframe\">\n",
       "  <thead>\n",
       "    <tr style=\"text-align: right;\">\n",
       "      <th></th>\n",
       "      <th>stage_one_completion</th>\n",
       "      <th>sample_extraction</th>\n",
       "      <th>predicted_probability</th>\n",
       "      <th>stage_two_completion</th>\n",
       "      <th>prediction</th>\n",
       "      <th>ground_truth</th>\n",
       "    </tr>\n",
       "    <tr>\n",
       "      <th>user_id</th>\n",
       "      <th></th>\n",
       "      <th></th>\n",
       "      <th></th>\n",
       "      <th></th>\n",
       "      <th></th>\n",
       "      <th></th>\n",
       "    </tr>\n",
       "  </thead>\n",
       "  <tbody>\n",
       "    <tr>\n",
       "      <th>4078189</th>\n",
       "      <td>2022-05-14 10:20:48</td>\n",
       "      <td>2022-05-19 18:57:04</td>\n",
       "      <td>0.027726</td>\n",
       "      <td>2022-05-20 06:16:44</td>\n",
       "      <td>False</td>\n",
       "      <td>True</td>\n",
       "    </tr>\n",
       "    <tr>\n",
       "      <th>4078240</th>\n",
       "      <td>2022-05-15 14:00:32</td>\n",
       "      <td>2022-05-19 18:57:04</td>\n",
       "      <td>0.161021</td>\n",
       "      <td>NaT</td>\n",
       "      <td>True</td>\n",
       "      <td>False</td>\n",
       "    </tr>\n",
       "    <tr>\n",
       "      <th>4078250</th>\n",
       "      <td>2022-05-15 17:31:44</td>\n",
       "      <td>2022-05-19 18:57:04</td>\n",
       "      <td>0.023023</td>\n",
       "      <td>NaT</td>\n",
       "      <td>False</td>\n",
       "      <td>False</td>\n",
       "    </tr>\n",
       "    <tr>\n",
       "      <th>4078307</th>\n",
       "      <td>2022-05-16 07:34:24</td>\n",
       "      <td>2022-05-19 18:57:04</td>\n",
       "      <td>0.026267</td>\n",
       "      <td>NaT</td>\n",
       "      <td>False</td>\n",
       "      <td>False</td>\n",
       "    </tr>\n",
       "    <tr>\n",
       "      <th>4077901</th>\n",
       "      <td>2022-05-11 12:16:00</td>\n",
       "      <td>2022-05-19 18:57:04</td>\n",
       "      <td>0.009692</td>\n",
       "      <td>NaT</td>\n",
       "      <td>False</td>\n",
       "      <td>False</td>\n",
       "    </tr>\n",
       "    <tr>\n",
       "      <th>...</th>\n",
       "      <td>...</td>\n",
       "      <td>...</td>\n",
       "      <td>...</td>\n",
       "      <td>...</td>\n",
       "      <td>...</td>\n",
       "      <td>...</td>\n",
       "    </tr>\n",
       "    <tr>\n",
       "      <th>4077894</th>\n",
       "      <td>2022-05-11 10:44:16</td>\n",
       "      <td>2022-05-19 18:57:04</td>\n",
       "      <td>0.015338</td>\n",
       "      <td>NaT</td>\n",
       "      <td>False</td>\n",
       "      <td>False</td>\n",
       "    </tr>\n",
       "    <tr>\n",
       "      <th>4077902</th>\n",
       "      <td>2022-05-11 11:24:48</td>\n",
       "      <td>2022-05-19 18:57:04</td>\n",
       "      <td>0.053055</td>\n",
       "      <td>NaT</td>\n",
       "      <td>False</td>\n",
       "      <td>False</td>\n",
       "    </tr>\n",
       "    <tr>\n",
       "      <th>4078593</th>\n",
       "      <td>2022-05-18 11:16:16</td>\n",
       "      <td>2022-05-19 18:57:04</td>\n",
       "      <td>0.049100</td>\n",
       "      <td>NaT</td>\n",
       "      <td>False</td>\n",
       "      <td>False</td>\n",
       "    </tr>\n",
       "    <tr>\n",
       "      <th>4077745</th>\n",
       "      <td>2022-05-10 07:13:04</td>\n",
       "      <td>2022-05-19 18:57:04</td>\n",
       "      <td>0.007986</td>\n",
       "      <td>NaT</td>\n",
       "      <td>False</td>\n",
       "      <td>False</td>\n",
       "    </tr>\n",
       "    <tr>\n",
       "      <th>4078430</th>\n",
       "      <td>2022-05-17 06:51:44</td>\n",
       "      <td>2022-05-19 18:57:04</td>\n",
       "      <td>0.056378</td>\n",
       "      <td>NaT</td>\n",
       "      <td>False</td>\n",
       "      <td>False</td>\n",
       "    </tr>\n",
       "  </tbody>\n",
       "</table>\n",
       "<p>701 rows × 6 columns</p>\n",
       "</div>"
      ],
      "text/plain": [
       "        stage_one_completion   sample_extraction  predicted_probability  \\\n",
       "user_id                                                                   \n",
       "4078189  2022-05-14 10:20:48 2022-05-19 18:57:04               0.027726   \n",
       "4078240  2022-05-15 14:00:32 2022-05-19 18:57:04               0.161021   \n",
       "4078250  2022-05-15 17:31:44 2022-05-19 18:57:04               0.023023   \n",
       "4078307  2022-05-16 07:34:24 2022-05-19 18:57:04               0.026267   \n",
       "4077901  2022-05-11 12:16:00 2022-05-19 18:57:04               0.009692   \n",
       "...                      ...                 ...                    ...   \n",
       "4077894  2022-05-11 10:44:16 2022-05-19 18:57:04               0.015338   \n",
       "4077902  2022-05-11 11:24:48 2022-05-19 18:57:04               0.053055   \n",
       "4078593  2022-05-18 11:16:16 2022-05-19 18:57:04               0.049100   \n",
       "4077745  2022-05-10 07:13:04 2022-05-19 18:57:04               0.007986   \n",
       "4078430  2022-05-17 06:51:44 2022-05-19 18:57:04               0.056378   \n",
       "\n",
       "        stage_two_completion  prediction  ground_truth  \n",
       "user_id                                                 \n",
       "4078189  2022-05-20 06:16:44       False          True  \n",
       "4078240                  NaT        True         False  \n",
       "4078250                  NaT       False         False  \n",
       "4078307                  NaT       False         False  \n",
       "4077901                  NaT       False         False  \n",
       "...                      ...         ...           ...  \n",
       "4077894                  NaT       False         False  \n",
       "4077902                  NaT       False         False  \n",
       "4078593                  NaT       False         False  \n",
       "4077745                  NaT       False         False  \n",
       "4078430                  NaT       False         False  \n",
       "\n",
       "[701 rows x 6 columns]"
      ]
     },
     "execution_count": 11,
     "metadata": {},
     "output_type": "execute_result"
    }
   ],
   "source": [
    "recent_df = df[(df.sample_extraction- df.stage_one_completion) < pd.Timedelta(HOPELESS_HORIZON, 'd')]\n",
    "recent_df"
   ]
  },
  {
   "cell_type": "markdown",
   "id": "e1f79eb7",
   "metadata": {},
   "source": [
    "# See statistics about predictions"
   ]
  },
  {
   "cell_type": "code",
   "execution_count": 12,
   "id": "303eada3",
   "metadata": {},
   "outputs": [
    {
     "data": {
      "text/plain": [
       "<AxesSubplot:>"
      ]
     },
     "execution_count": 12,
     "metadata": {},
     "output_type": "execute_result"
    },
    {
     "data": {
      "image/png": "[encoded data removed]",
      "text/plain": [
       "<Figure size 432x288 with 1 Axes>"
      ]
     },
     "metadata": {
      "needs_background": "light"
     },
     "output_type": "display_data"
    }
   ],
   "source": [
    "recent_df.predicted_probability.hist(bins=20)"
   ]
  },
  {
   "cell_type": "code",
   "execution_count": 13,
   "id": "dd010382",
   "metadata": {},
   "outputs": [
    {
     "data": {
      "text/plain": [
       "False    562\n",
       "True     139\n",
       "Name: prediction, dtype: int64"
      ]
     },
     "execution_count": 13,
     "metadata": {},
     "output_type": "execute_result"
    }
   ],
   "source": [
    "recent_df.prediction.value_counts()"
   ]
  },
  {
   "cell_type": "markdown",
   "id": "cdfb0b8a",
   "metadata": {},
   "source": [
    "# See statistics about ground truth"
   ]
  },
  {
   "cell_type": "code",
   "execution_count": 14,
   "id": "01268b64",
   "metadata": {},
   "outputs": [
    {
     "data": {
      "text/plain": [
       "False    659\n",
       "True      42\n",
       "Name: ground_truth, dtype: int64"
      ]
     },
     "execution_count": 14,
     "metadata": {},
     "output_type": "execute_result"
    }
   ],
   "source": [
    "recent_df.ground_truth.value_counts()"
   ]
  },
  {
   "cell_type": "markdown",
   "id": "c0e35b0d",
   "metadata": {},
   "source": [
    "# Select data series"
   ]
  },
  {
   "cell_type": "code",
   "execution_count": 15,
   "id": "ff33404b",
   "metadata": {},
   "outputs": [],
   "source": [
    "y_true = recent_df.ground_truth\n",
    "y_pred = recent_df.prediction"
   ]
  },
  {
   "cell_type": "markdown",
   "id": "047c1c54",
   "metadata": {},
   "source": [
    "# Confusion matrix (absolute counts)"
   ]
  },
  {
   "cell_type": "code",
   "execution_count": 16,
   "id": "dcdcac2e",
   "metadata": {},
   "outputs": [
    {
     "data": {
      "image/png": "[encoded data removed]",
      "text/plain": [
       "<Figure size 432x288 with 2 Axes>"
      ]
     },
     "metadata": {
      "needs_background": "light"
     },
     "output_type": "display_data"
    }
   ],
   "source": [
    "ConfusionMatrixDisplay.from_predictions(\n",
    "    y_true, y_pred,\n",
    "    cmap='Reds',\n",
    "    labels=[True, False], display_labels=['positive', 'negative'],\n",
    ")\n",
    "plt.show()"
   ]
  },
  {
   "cell_type": "markdown",
   "id": "9c9a0f55",
   "metadata": {},
   "source": [
    "# Confusion matrix (normalized)"
   ]
  },
  {
   "cell_type": "code",
   "execution_count": 17,
   "id": "fccc5bdc",
   "metadata": {},
   "outputs": [
    {
     "data": {
      "image/png": "[encoded data removed]",
      "text/plain": [
       "<Figure size 432x288 with 2 Axes>"
      ]
     },
     "metadata": {
      "needs_background": "light"
     },
     "output_type": "display_data"
    }
   ],
   "source": [
    "ConfusionMatrixDisplay.from_predictions(\n",
    "    y_true, y_pred,\n",
    "    cmap='Blues', normalize='true',\n",
    "    labels=[True, False], display_labels=['positive', 'negative'],\n",
    ")\n",
    "plt.show()"
   ]
  },
  {
   "cell_type": "markdown",
   "id": "7f60aace",
   "metadata": {},
   "source": [
    "# Accuracy"
   ]
  },
  {
   "cell_type": "code",
   "execution_count": 19,
   "id": "23988409",
   "metadata": {},
   "outputs": [
    {
     "data": {
      "text/plain": [
       "0.7874465049928673"
      ]
     },
     "execution_count": 19,
     "metadata": {},
     "output_type": "execute_result"
    }
   ],
   "source": [
    "accuracy_score(y_true, y_pred)"
   ]
  },
  {
   "cell_type": "markdown",
   "id": "9d59fafa",
   "metadata": {},
   "source": [
    "# F1 score"
   ]
  },
  {
   "cell_type": "code",
   "execution_count": 22,
   "id": "352f6253",
   "metadata": {},
   "outputs": [
    {
     "data": {
      "text/plain": [
       "0.17679558011049726"
      ]
     },
     "execution_count": 22,
     "metadata": {},
     "output_type": "execute_result"
    }
   ],
   "source": [
    "f1_score(y_true, y_pred)"
   ]
  },
  {
   "cell_type": "code",
   "execution_count": null,
   "id": "2435a09f",
   "metadata": {},
   "outputs": [],
   "source": []
  }
 ],
 "metadata": {
  "kernelspec": {
   "display_name": "Python 3 (ipykernel)",
   "language": "python",
   "name": "python3"
  },
  "language_info": {
   "codemirror_mode": {
    "name": "ipython",
    "version": 3
   },
   "file_extension": ".py",
   "mimetype": "text/x-python",
   "name": "python",
   "nbconvert_exporter": "python",
   "pygments_lexer": "ipython3",
   "version": "3.7.12"
  }
 },
 "nbformat": 4,
 "nbformat_minor": 5
}
